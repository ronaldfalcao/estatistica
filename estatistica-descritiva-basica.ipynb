{
 "cells": [
  {
   "cell_type": "markdown",
   "metadata": {},
   "source": [
    "# Estatística descritiva básica"
   ]
  },
  {
   "cell_type": "markdown",
   "metadata": {},
   "source": [
    "Uma abordagem utilizando a biblioteca Pandas do Python"
   ]
  },
  {
   "cell_type": "markdown",
   "metadata": {},
   "source": [
    "## O que é estatística descritiva?"
   ]
  },
  {
   "cell_type": "markdown",
   "metadata": {},
   "source": [
    "Segundo o professor Victor Hugo Lachos Davila (IME-UNICAMP) podemos definir a estatística como:\n",
    "    \n",
    "*\"A estatística é um conjunto de técnicas que permite, de forma sistemática, organizar, descrever, analisar e interpretar dados oriundos de estudos ou experimentos, realizados em qualquer área do conhecimento.\"*\n",
    "\n",
    "Sendo que ela pode ser dividida em três áreas:\n",
    "* Estatística Descritiva\n",
    "* Probabilidade\n",
    "* Inferência Estatística\n",
    "\n",
    "Vamos tratar da primeira que pode ser definida como:\n",
    "\n",
    "*\"A **estatística descritiva** é a etapa inicial da análise utilizada para descrever e resumir os dados.\"*"
   ]
  },
  {
   "cell_type": "markdown",
   "metadata": {},
   "source": [
    "## Uma Abordagem da Estatística Descritiva com Python"
   ]
  },
  {
   "cell_type": "markdown",
   "metadata": {},
   "source": [
    "### Medidas de Tendência Central"
   ]
  },
  {
   "cell_type": "markdown",
   "metadata": {},
   "source": [
    "#### Média Aritimética"
   ]
  },
  {
   "cell_type": "markdown",
   "metadata": {},
   "source": [
    "Média aritmética é a soma de vários valores e dividido pelo total deles. Ou seja, o resultado dessa divisão equivale a um valor médio entre todos os valores. (NOVAES, Jean Carlos - 2015)"
   ]
  },
  {
   "cell_type": "code",
   "execution_count": 120,
   "metadata": {},
   "outputs": [],
   "source": [
    "# Importando a biblioteca Pandas que vai nos ajudar nos cálculos de estatística descritiva...\n",
    "import pandas as pd"
   ]
  },
  {
   "cell_type": "code",
   "execution_count": 121,
   "metadata": {},
   "outputs": [],
   "source": [
    "# Não fiz uma geração aleatória para poder explorar melhor os exemplos :-)\n",
    "serie =  pd.Series(\n",
    "    [0,3.5,4,5.5,5,6,5,5.5,7.5,6.5,10,7,6.5,6.5,4.5,3,4.5,6,7,10,0,4,4.5,6,6.5,4,3,5,4.5,3.5,6,7,4,3.5,10,5.5,4,4.5,7.5,6,5.5,5,4]\n",
    ")"
   ]
  },
  {
   "cell_type": "code",
   "execution_count": 28,
   "metadata": {},
   "outputs": [
    {
     "name": "stdout",
     "output_type": "stream",
     "text": [
      "A média da sala na prova foi de 5.3\n"
     ]
    }
   ],
   "source": [
    "# Verificando a média da série...\n",
    "print(f'A média da sala na prova foi de {serie.mean():.2}') # Usando apenas 2 dígitos (arredondamento)"
   ]
  },
  {
   "cell_type": "markdown",
   "metadata": {},
   "source": [
    "Quando falamos de média aritimética devemos lembrar dos tempos de escola, onde todas as nossas notas eram somadas e divididas pelo número de provas para gerar nossa média. Mas pensando que o exemplo acima é a média de uma turma será que somente a média aritimética nos basta? Abaixo algumas informações para pensar:"
   ]
  },
  {
   "cell_type": "code",
   "execution_count": 24,
   "metadata": {},
   "outputs": [
    {
     "name": "stdout",
     "output_type": "stream",
     "text": [
      "Número de Estudantes: 43\n",
      "Nota máxima nessa prova: 10.0\n",
      "Menor nota nessa prova: 0.0\n"
     ]
    }
   ],
   "source": [
    "print(f'Número de Estudantes: {serie.count()}')\n",
    "print(f'Nota máxima nessa prova: {serie.max()}')\n",
    "print(f'Menor nota nessa prova: {serie.min()}')"
   ]
  },
  {
   "cell_type": "markdown",
   "metadata": {},
   "source": [
    "Temos que dos 43 estudantes houveram notas 10.0 e 0.0, que estão um pouco distante da média (5.3). Assim, usar a média para descrever o cenário da sala de aula talvez não seja a melhor abordagem quando queremos entender melhor o desempenho dos estudantes na prova."
   ]
  },
  {
   "cell_type": "code",
   "execution_count": 43,
   "metadata": {},
   "outputs": [
    {
     "data": {
      "text/plain": [
       "0      0.0\n",
       "20     0.0\n",
       "26     3.0\n",
       "15     3.0\n",
       "1      3.5\n",
       "33     3.5\n",
       "29     3.5\n",
       "36     4.0\n",
       "32     4.0\n",
       "25     4.0\n",
       "21     4.0\n",
       "42     4.0\n",
       "2      4.0\n",
       "37     4.5\n",
       "14     4.5\n",
       "16     4.5\n",
       "28     4.5\n",
       "22     4.5\n",
       "4      5.0\n",
       "27     5.0\n",
       "41     5.0\n",
       "6      5.0\n",
       "7      5.5\n",
       "40     5.5\n",
       "3      5.5\n",
       "35     5.5\n",
       "23     6.0\n",
       "39     6.0\n",
       "17     6.0\n",
       "5      6.0\n",
       "30     6.0\n",
       "9      6.5\n",
       "24     6.5\n",
       "12     6.5\n",
       "13     6.5\n",
       "11     7.0\n",
       "31     7.0\n",
       "18     7.0\n",
       "8      7.5\n",
       "38     7.5\n",
       "10    10.0\n",
       "34    10.0\n",
       "19    10.0\n",
       "dtype: float64"
      ]
     },
     "execution_count": 43,
     "metadata": {},
     "output_type": "execute_result"
    }
   ],
   "source": [
    "# Organizando a série para verificar melhor as notas\n",
    "serie.sort_values()"
   ]
  },
  {
   "cell_type": "markdown",
   "metadata": {},
   "source": [
    "Vamos agora criar uma lista com as notas menores do que a média total da sala."
   ]
  },
  {
   "cell_type": "code",
   "execution_count": 61,
   "metadata": {},
   "outputs": [
    {
     "data": {
      "text/plain": [
       "[0.0,\n",
       " 0.0,\n",
       " 3.0,\n",
       " 3.0,\n",
       " 3.5,\n",
       " 3.5,\n",
       " 3.5,\n",
       " 4.0,\n",
       " 4.0,\n",
       " 4.0,\n",
       " 4.0,\n",
       " 4.0,\n",
       " 4.0,\n",
       " 4.5,\n",
       " 4.5,\n",
       " 4.5,\n",
       " 4.5,\n",
       " 4.5,\n",
       " 5.0,\n",
       " 5.0,\n",
       " 5.0,\n",
       " 5.0]"
      ]
     },
     "execution_count": 61,
     "metadata": {},
     "output_type": "execute_result"
    }
   ],
   "source": [
    "notas_menores = []\n",
    "for nota in serie:\n",
    "    if nota < serie.mean():\n",
    "        notas_menores.append(nota)\n",
    "\n",
    "sorted(notas_menores)"
   ]
  },
  {
   "cell_type": "code",
   "execution_count": 47,
   "metadata": {},
   "outputs": [
    {
     "name": "stdout",
     "output_type": "stream",
     "text": [
      "A média das MENORES notas é: 3.8\n"
     ]
    }
   ],
   "source": [
    "notas_menores = pd.Series(notas_menores)\n",
    "print(f'A média das MENORES notas é: {notas_menores.mean():.2}')"
   ]
  },
  {
   "cell_type": "markdown",
   "metadata": {},
   "source": [
    "Vamos fazer o mesmo com as notas acima da média."
   ]
  },
  {
   "cell_type": "code",
   "execution_count": 62,
   "metadata": {},
   "outputs": [
    {
     "data": {
      "text/plain": [
       "[5.5,\n",
       " 5.5,\n",
       " 5.5,\n",
       " 5.5,\n",
       " 6.0,\n",
       " 6.0,\n",
       " 6.0,\n",
       " 6.0,\n",
       " 6.0,\n",
       " 6.5,\n",
       " 6.5,\n",
       " 6.5,\n",
       " 6.5,\n",
       " 7.0,\n",
       " 7.0,\n",
       " 7.0,\n",
       " 7.5,\n",
       " 7.5,\n",
       " 10.0,\n",
       " 10.0,\n",
       " 10.0]"
      ]
     },
     "execution_count": 62,
     "metadata": {},
     "output_type": "execute_result"
    }
   ],
   "source": [
    "notas_maiores = []\n",
    "for nota in serie:\n",
    "    if nota >= serie.mean():\n",
    "        notas_maiores.append(nota)\n",
    "\n",
    "sorted(notas_maiores)"
   ]
  },
  {
   "cell_type": "code",
   "execution_count": 50,
   "metadata": {},
   "outputs": [
    {
     "name": "stdout",
     "output_type": "stream",
     "text": [
      "A média das MAIORES notas é: 6.9\n"
     ]
    }
   ],
   "source": [
    "notas_maiores = pd.Series(notas_maiores)\n",
    "print(f'A média das MAIORES notas é: {notas_maiores.mean():.2}')"
   ]
  },
  {
   "cell_type": "markdown",
   "metadata": {},
   "source": [
    "Com essa partição entre as notas já podemos notar que existem algumas diferenças interessantes entre as notas individuais e que ficam, de certa forma, camufladas pela média aritimética."
   ]
  },
  {
   "cell_type": "markdown",
   "metadata": {},
   "source": [
    "#### Mediana"
   ]
  },
  {
   "cell_type": "markdown",
   "metadata": {},
   "source": [
    "É o número do centro; é encontrado ordenando-se todos os dados e escolhendo o que está no centro (ou, se houver dois números no centro, calculando-se a média desses dois números). (Khan Academy)"
   ]
  },
  {
   "cell_type": "code",
   "execution_count": 69,
   "metadata": {},
   "outputs": [
    {
     "name": "stdout",
     "output_type": "stream",
     "text": [
      "A mediana das notas é de: 5.0\n"
     ]
    }
   ],
   "source": [
    "# Calculando a mediada das notas obtidas...\n",
    "print(f'A mediana das notas é de: {serie.median():.2}')"
   ]
  },
  {
   "cell_type": "code",
   "execution_count": 72,
   "metadata": {},
   "outputs": [
    {
     "name": "stdout",
     "output_type": "stream",
     "text": [
      "A mediana das MAIORES notas é de: 6.5\n",
      "A mediana das MENORES notas é de: 4.0\n"
     ]
    }
   ],
   "source": [
    "# Cauculando a mediana das menores e maiores notas\n",
    "\n",
    "notas_maiores = pd.Series(notas_maiores)\n",
    "notas_menores = pd.Series(notas_menores)\n",
    "\n",
    "print(f'A mediana das MAIORES notas é de: {notas_maiores.median():.2}')\n",
    "print(f'A mediana das MENORES notas é de: {notas_menores.median():.2}')"
   ]
  },
  {
   "cell_type": "markdown",
   "metadata": {},
   "source": [
    "Nesse caso notamos que não tivemos grandes diferenças em relação à media aritimética. Para termos uma visão mais clara vamos usar o exemplo abaixo:"
   ]
  },
  {
   "cell_type": "code",
   "execution_count": 78,
   "metadata": {},
   "outputs": [
    {
     "name": "stdout",
     "output_type": "stream",
     "text": [
      "A média da sequência é 12.4\n",
      "A mediana da sequência é 7.0\n"
     ]
    }
   ],
   "source": [
    "sequencia = pd.Series([1,1,3,5,7,9,15,26,45])\n",
    "\n",
    "print(f'A média da sequência é {sequencia.mean():.3}')\n",
    "print(f'A mediana da sequência é {sequencia.median()}')"
   ]
  },
  {
   "cell_type": "markdown",
   "metadata": {},
   "source": [
    "Notamos que nesse caso a diferença entre a média aritimética e a mediana é mais evidente por conta da diferença entre os elementos da sequência. Se organizarmos visualmente podemos notar essa diferença *1,1,3,5*  **(7)**  *9,15,26,45*."
   ]
  },
  {
   "cell_type": "markdown",
   "metadata": {},
   "source": [
    "A título de exemplo vamos calcular a mediana da série abaixo."
   ]
  },
  {
   "cell_type": "code",
   "execution_count": 123,
   "metadata": {},
   "outputs": [
    {
     "name": "stdout",
     "output_type": "stream",
     "text": [
      "A mediana do exemplo acima é 5.0\n"
     ]
    }
   ],
   "source": [
    "exemplo_mediana = pd.Series([1,2,4,6,8,9])\n",
    "print(f'A mediana do exemplo acima é {exemplo_mediana.median()}')"
   ]
  },
  {
   "cell_type": "markdown",
   "metadata": {},
   "source": [
    "Como não há elemento que separe em dois de forma idêntica (mesmo número de elementos) é feita a média com os elementos centrais (4 e 6) da sequência."
   ]
  },
  {
   "cell_type": "markdown",
   "metadata": {},
   "source": [
    "#### Moda"
   ]
  },
  {
   "cell_type": "markdown",
   "metadata": {},
   "source": [
    "o número do centro; é encontrado ordenando-se todos os dados e escolhendo o que está no centro (ou, se houver dois números no centro, calculando-se a média desses dois números). (Professor Sérgio Ricardo Muniz - USP)"
   ]
  },
  {
   "cell_type": "code",
   "execution_count": 97,
   "metadata": {},
   "outputs": [
    {
     "name": "stdout",
     "output_type": "stream",
     "text": [
      "A moda da série é 4.0\n"
     ]
    }
   ],
   "source": [
    "# Calculando a moda das notas\n",
    "print(f'A moda da série é {serie.mode()[0]}') # Lembrando que .mode() retorna uma lista de valores."
   ]
  },
  {
   "cell_type": "markdown",
   "metadata": {},
   "source": [
    "Uma visão interessante para essa análise é visualizando o gráfico de histograma da série. Notamos que realmente a nota que mais se repete é a nota 4.0."
   ]
  },
  {
   "cell_type": "code",
   "execution_count": 99,
   "metadata": {},
   "outputs": [
    {
     "data": {
      "text/plain": [
       "<matplotlib.axes._subplots.AxesSubplot at 0x22584d39c18>"
      ]
     },
     "execution_count": 99,
     "metadata": {},
     "output_type": "execute_result"
    },
    {
     "data": {
      "image/png": "[encoded data removed]",
      "text/plain": [
       "<Figure size 432x288 with 1 Axes>"
      ]
     },
     "metadata": {
      "needs_background": "light"
     },
     "output_type": "display_data"
    }
   ],
   "source": [
    "serie.plot.hist()"
   ]
  },
  {
   "cell_type": "markdown",
   "metadata": {},
   "source": [
    "#### Quartil"
   ]
  },
  {
   "cell_type": "markdown",
   "metadata": {},
   "source": [
    "Na estatística descritiva, um quartil é qualquer um dos três valores que divide o conjunto ordenado de dados em quatro partes iguais, e assim cada parte representa 1/4 da amostra ou população. (Wikipédia)"
   ]
  },
  {
   "cell_type": "code",
   "execution_count": 124,
   "metadata": {},
   "outputs": [
    {
     "name": "stdout",
     "output_type": "stream",
     "text": [
      "O primeiro quartil é 4.0\n",
      "O segundo quartil é 5.0\n",
      "O terceiro quartil é 6.5\n"
     ]
    }
   ],
   "source": [
    "# Calculando os quartis da série...\n",
    "print(f'O primeiro quartil é {serie.quantile(q=.25)}')\n",
    "print(f'O segundo quartil é {serie.quantile(q=.50)}')\n",
    "print(f'O terceiro quartil é {serie.quantile(q=.75)}')"
   ]
  },
  {
   "cell_type": "markdown",
   "metadata": {},
   "source": [
    "Uma forma mais intuitiva de entender o quartil é visualizando gráfico de boxplot abaixo."
   ]
  },
  {
   "cell_type": "code",
   "execution_count": 96,
   "metadata": {},
   "outputs": [
    {
     "data": {
      "text/plain": [
       "<matplotlib.axes._subplots.AxesSubplot at 0x22584ce7e10>"
      ]
     },
     "execution_count": 96,
     "metadata": {},
     "output_type": "execute_result"
    },
    {
     "data": {
      "image/png": "[encoded data removed]",
      "text/plain": [
       "<Figure size 432x288 with 1 Axes>"
      ]
     },
     "metadata": {
      "needs_background": "light"
     },
     "output_type": "display_data"
    }
   ],
   "source": [
    "serie.plot.box()"
   ]
  },
  {
   "cell_type": "markdown",
   "metadata": {},
   "source": [
    "### Medidas de Dispersão"
   ]
  },
  {
   "cell_type": "markdown",
   "metadata": {},
   "source": [
    "#### Amplitude ou intervalo"
   ]
  },
  {
   "cell_type": "markdown",
   "metadata": {},
   "source": [
    "Esse é um conceito bem simples, onde pegamos da série o maior e o menor valor e fazemos a subtração do maior pelo menor."
   ]
  },
  {
   "cell_type": "code",
   "execution_count": 101,
   "metadata": {},
   "outputs": [
    {
     "name": "stdout",
     "output_type": "stream",
     "text": [
      "A amplitude da série é 10.0\n"
     ]
    }
   ],
   "source": [
    "print(f'A amplitude da série é {serie.max() - serie.min()}') # Com a menor nota sendo 0.0 e a maior 10.0 fica evidente..."
   ]
  },
  {
   "cell_type": "markdown",
   "metadata": {},
   "source": [
    "### Variância"
   ]
  },
  {
   "cell_type": "markdown",
   "metadata": {},
   "source": [
    "Na teoria da probabilidade e na estatística, a variância de uma variável aleatória ou processo estocástico é uma medida da sua dispersão estatística, indicando \"o quão longe\" em geral os seus valores se encontram do valor esperado.(Wikipédia)"
   ]
  },
  {
   "cell_type": "code",
   "execution_count": 125,
   "metadata": {},
   "outputs": [
    {
     "name": "stdout",
     "output_type": "stream",
     "text": [
      "A variância da série é 4.36\n"
     ]
    }
   ],
   "source": [
    "# Calculando a variância da série...\n",
    "print(f'A variância da série é {serie.var():.3}')"
   ]
  },
  {
   "cell_type": "markdown",
   "metadata": {},
   "source": [
    "Dentro do nosso exemplo podemos dizer que temos uma variância alta. Pesando que temos elementos que vão de 0 até 10 temos que eles podem estar bem distantes da média encontrada (5.3)."
   ]
  },
  {
   "cell_type": "markdown",
   "metadata": {},
   "source": [
    "### Desvio Padrão"
   ]
  },
  {
   "cell_type": "markdown",
   "metadata": {},
   "source": [
    "Em probabilidade, o desvio padrão ou desvio padrão populacional (comumente representado pela letra grega sigma é uma medida de dispersão em torno da média populacional de uma variável aleatória. O termo possui também uma acepção específica no campo da estatística, na qual também é chamado de desvio padrão amostral (comumente representado pela letra latina {\\displaystyle s} s) e indica uma medida de dispersão dos dados em torno de média amostral. Um baixo desvio padrão indica que os pontos dos dados tendem a estar próximos da média ou do valor esperado. Um alto desvio padrão indica que os pontos dos dados estão espalhados por uma ampla gama de valores. O desvio padrão populacional ou amostral é a raiz quadrada da variância populacional ou amostral correspondente, de modo a ser uma medida de dispersão que seja um número não negativo e que use a mesma unidade de medida dos dados fornecidos. (Wikipédia)"
   ]
  },
  {
   "cell_type": "code",
   "execution_count": 104,
   "metadata": {},
   "outputs": [
    {
     "name": "stdout",
     "output_type": "stream",
     "text": [
      "O desvio padrão da série é 2.09\n"
     ]
    }
   ],
   "source": [
    "print(f'O desvio padrão da série é {serie.std():.3}')"
   ]
  },
  {
   "cell_type": "markdown",
   "metadata": {},
   "source": [
    "### Desvio Absoluto ou Desvio Absoluto Médio"
   ]
  },
  {
   "cell_type": "markdown",
   "metadata": {},
   "source": [
    "O desvio absoluto médio de um conjunto de dados é a média das distâncias entre cada dado e a média. Ele nos dá uma noção da variabilidade em um conjunto de dados. (Khan Academy)"
   ]
  },
  {
   "cell_type": "code",
   "execution_count": 106,
   "metadata": {},
   "outputs": [
    {
     "name": "stdout",
     "output_type": "stream",
     "text": [
      "O desvio absoluto da série é 1.54\n"
     ]
    }
   ],
   "source": [
    "print(f'O desvio absoluto da série é {serie.mad():.3}')"
   ]
  },
  {
   "cell_type": "markdown",
   "metadata": {},
   "source": [
    "### Covariância"
   ]
  },
  {
   "cell_type": "markdown",
   "metadata": {},
   "source": [
    "No exemplo, forçado, abaixo podemos notar que a covariância entre as variáveis notas e faltas são menores do que zero. Com isso podemos dizer que quanto maior o número de faltas, menor é a nota. O mesmo para quando maior é a nota, menor o número de faltas."
   ]
  },
  {
   "cell_type": "code",
   "execution_count": 118,
   "metadata": {},
   "outputs": [
    {
     "data": {
      "text/html": [
       "<div>\n",
       "<style scoped>\n",
       "    .dataframe tbody tr th:only-of-type {\n",
       "        vertical-align: middle;\n",
       "    }\n",
       "\n",
       "    .dataframe tbody tr th {\n",
       "        vertical-align: top;\n",
       "    }\n",
       "\n",
       "    .dataframe thead th {\n",
       "        text-align: right;\n",
       "    }\n",
       "</style>\n",
       "<table border=\"1\" class=\"dataframe\">\n",
       "  <thead>\n",
       "    <tr style=\"text-align: right;\">\n",
       "      <th></th>\n",
       "      <th>notas</th>\n",
       "      <th>faltas</th>\n",
       "    </tr>\n",
       "  </thead>\n",
       "  <tbody>\n",
       "    <tr>\n",
       "      <th>notas</th>\n",
       "      <td>5.186842</td>\n",
       "      <td>-5.165789</td>\n",
       "    </tr>\n",
       "    <tr>\n",
       "      <th>faltas</th>\n",
       "      <td>-5.165789</td>\n",
       "      <td>5.207895</td>\n",
       "    </tr>\n",
       "  </tbody>\n",
       "</table>\n",
       "</div>"
      ],
      "text/plain": [
       "           notas    faltas\n",
       "notas   5.186842 -5.165789\n",
       "faltas -5.165789  5.207895"
      ]
     },
     "execution_count": 118,
     "metadata": {},
     "output_type": "execute_result"
    }
   ],
   "source": [
    "nota_faltas =  pd.DataFrame(\n",
    "    [(0,10), (3.5,7), (4,6), (5.5,5), (5,5), (6,4), \n",
    "     (5,5), (5.5,5), (7.5,3), (6.5,4), (10,0), (7,3), \n",
    "     (6.5,4), (6.5,4), (4.5,6), (3,7), (4,6), (6,4), (7,3), (10,0)\n",
    "    ],\n",
    "    columns=['notas', 'faltas']\n",
    ")\n",
    "\n",
    "nota_faltas.cov()"
   ]
  },
  {
   "cell_type": "markdown",
   "metadata": {},
   "source": [
    "### Correlação"
   ]
  },
  {
   "cell_type": "markdown",
   "metadata": {},
   "source": [
    "Podemos dizer que uma correlação entre duas variáveis acontece quando uma das variáveis está, de alguma forma,\n",
    "relacionada com a outra. Quando a alteração no valor de uma varíavel (dita independente) provoca alterações no valor da outra variável (dita dependente). Adaptado de Marcos Portnoi's"
   ]
  },
  {
   "cell_type": "code",
   "execution_count": 119,
   "metadata": {},
   "outputs": [
    {
     "data": {
      "text/html": [
       "<div>\n",
       "<style scoped>\n",
       "    .dataframe tbody tr th:only-of-type {\n",
       "        vertical-align: middle;\n",
       "    }\n",
       "\n",
       "    .dataframe tbody tr th {\n",
       "        vertical-align: top;\n",
       "    }\n",
       "\n",
       "    .dataframe thead th {\n",
       "        text-align: right;\n",
       "    }\n",
       "</style>\n",
       "<table border=\"1\" class=\"dataframe\">\n",
       "  <thead>\n",
       "    <tr style=\"text-align: right;\">\n",
       "      <th></th>\n",
       "      <th>notas</th>\n",
       "      <th>faltas</th>\n",
       "    </tr>\n",
       "  </thead>\n",
       "  <tbody>\n",
       "    <tr>\n",
       "      <th>notas</th>\n",
       "      <td>1.000000</td>\n",
       "      <td>-0.993926</td>\n",
       "    </tr>\n",
       "    <tr>\n",
       "      <th>faltas</th>\n",
       "      <td>-0.993926</td>\n",
       "      <td>1.000000</td>\n",
       "    </tr>\n",
       "  </tbody>\n",
       "</table>\n",
       "</div>"
      ],
      "text/plain": [
       "           notas    faltas\n",
       "notas   1.000000 -0.993926\n",
       "faltas -0.993926  1.000000"
      ]
     },
     "execution_count": 119,
     "metadata": {},
     "output_type": "execute_result"
    }
   ],
   "source": [
    "# Calculando a correlação da série...\n",
    "nota_faltas.corr()"
   ]
  },
  {
   "cell_type": "markdown",
   "metadata": {},
   "source": [
    "Já no exemplo acima vemos de forma normalizada que a correlação entre a nota e o número de faltas é próximo de -1 (correlação negativa perfeita). O que nos garante uma correlação negativa, no exemplo, quanto maior o número de faltas menor a nota e vice versa."
   ]
  },
  {
   "cell_type": "markdown",
   "metadata": {},
   "source": [
    "**Referências:**\n",
    "* https://www.ime.unicamp.br/~hlachos/estdescr1.pdf\n",
    "* http://www.each.usp.br/rvicente/Guedes_etal_Estatistica_Descritiva.pdf\n",
    "* https://matematicabasica.net/media-aritmetica/\n",
    "* https://pt.khanacademy.org/math/statistics-probability/summarizing-quantitative-data/mean-median-basics/a/mean-median-and-mode-review\n",
    "* https://edisciplinas.usp.br/pluginfile.php/1919031/mod_resource/content/0/Introducao_Estatistica__plc0016_14.pdf\n",
    "* https://pt.wikipedia.org/wiki/Quartil\n",
    "* https://pt.wikipedia.org/wiki/Desvio_padr%C3%A3o\n",
    "* https://pt.khanacademy.org/math/statistics-probability/summarizing-quantitative-data/other-measures-of-spread/a/mean-absolute-deviation-mad-review\n",
    "* https://www.eecis.udel.edu/~portnoi/classroom/prob_estatistica/2006_2/lecture_slides/aula20.pdf"
   ]
  }
 ],
 "metadata": {
  "kernelspec": {
   "display_name": "Python 3",
   "language": "python",
   "name": "python3"
  },
  "language_info": {
   "codemirror_mode": {
    "name": "ipython",
    "version": 3
   },
   "file_extension": ".py",
   "mimetype": "text/x-python",
   "name": "python",
   "nbconvert_exporter": "python",
   "pygments_lexer": "ipython3",
   "version": "3.7.3"
  }
 },
 "nbformat": 4,
 "nbformat_minor": 2
}
